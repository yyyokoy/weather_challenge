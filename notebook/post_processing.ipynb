{
 "cells": [
  {
   "cell_type": "code",
   "execution_count": 30,
   "metadata": {},
   "outputs": [],
   "source": [
    "import numpy as np\n",
    "import cv2\n",
    "from glob import glob\n",
    "\n",
    "# 関数：path(引数)の画像の(130, 40)から(469, 459)の矩形部分を切り抜き（配列形式）\n",
    "def trim(path):\n",
    "    return cv2.imread(path, 0)[40:460, 130:470]\n",
    "\n",
    "# 画像のパスの生成\n",
    "img_path_list = sorted(glob('predict/*.png'))\n",
    "# 切り抜いた画像（配列）を全てリストに入れる\n",
    "trimed_list = [trim(img_path) for img_path in img_path_list]\n",
    "# 上記配列を縦に結合\n",
    "trimed_arr = np.concatenate(trimed_list)\n",
    "# インデックス生成\n",
    "index=np.arange(trimed_arr.shape[0]).reshape(trimed_arr.shape[0], 1)\n",
    "# インデックス結合\n",
    "submit_arr = np.concatenate([index, trimed_arr], axis=1)\n",
    "# csvとして出力\n",
    "np.savetxt('./processed/submit.csv', submit_arr, delimiter=',', fmt='%d')"
   ]
  }
 ],
 "metadata": {
  "kernelspec": {
   "display_name": "Python 3",
   "language": "python",
   "name": "python3"
  },
  "language_info": {
   "codemirror_mode": {
    "name": "ipython",
    "version": 3
   },
   "file_extension": ".py",
   "mimetype": "text/x-python",
   "name": "python",
   "nbconvert_exporter": "python",
   "pygments_lexer": "ipython3",
   "version": "3.7.4"
  }
 },
 "nbformat": 4,
 "nbformat_minor": 2
}
