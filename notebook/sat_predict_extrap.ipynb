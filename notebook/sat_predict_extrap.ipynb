{
 "cells": [
  {
   "cell_type": "code",
   "execution_count": 1,
   "metadata": {},
   "outputs": [
    {
     "name": "stderr",
     "output_type": "stream",
     "text": [
      "Using TensorFlow backend.\n"
     ]
    }
   ],
   "source": [
    "import os\n",
    "import numpy as np\n",
    "from six.moves import cPickle\n",
    "import matplotlib\n",
    "matplotlib.use('Agg')\n",
    "import matplotlib.pyplot as plt\n",
    "import matplotlib.gridspec as gridspec\n",
    "\n",
    "from keras import backend as K\n",
    "from keras.models import Model, model_from_json\n",
    "from keras.layers import Input, Dense, Flatten\n",
    "\n",
    "import hickle as hkl\n",
    "\n",
    "import sys\n",
    "sys.path.append('..')\n",
    "\n",
    "from src.prednet import PredNet\n",
    "from src.data_utils import SequenceGenerator\n"
   ]
  },
  {
   "cell_type": "code",
   "execution_count": 2,
   "metadata": {},
   "outputs": [],
   "source": [
    "WEIGHTS_DIR = '../data/sat_weight'\n",
    "DATA_DIR = '../data/features'\n",
    "RESULTS_SAVE_DIR = '../data/results_extrap'\n",
    "\n",
    "n_plot = 10\n",
    "batch_size = 10\n",
    "nt = 48"
   ]
  },
  {
   "cell_type": "code",
   "execution_count": 3,
   "metadata": {},
   "outputs": [
    {
     "name": "stdout",
     "output_type": "stream",
     "text": [
      "WARNING:tensorflow:From /usr/local/lib/python3.6/dist-packages/keras/backend/tensorflow_backend.py:517: The name tf.placeholder is deprecated. Please use tf.compat.v1.placeholder instead.\n",
      "\n",
      "WARNING:tensorflow:From /usr/local/lib/python3.6/dist-packages/keras/backend/tensorflow_backend.py:74: The name tf.get_default_graph is deprecated. Please use tf.compat.v1.get_default_graph instead.\n",
      "\n",
      "WARNING:tensorflow:From /usr/local/lib/python3.6/dist-packages/keras/backend/tensorflow_backend.py:4138: The name tf.random_uniform is deprecated. Please use tf.random.uniform instead.\n",
      "\n",
      "WARNING:tensorflow:From /usr/local/lib/python3.6/dist-packages/keras/backend/tensorflow_backend.py:2018: The name tf.image.resize_nearest_neighbor is deprecated. Please use tf.compat.v1.image.resize_nearest_neighbor instead.\n",
      "\n",
      "WARNING:tensorflow:From /usr/local/lib/python3.6/dist-packages/keras/backend/tensorflow_backend.py:3976: The name tf.nn.max_pool is deprecated. Please use tf.nn.max_pool2d instead.\n",
      "\n",
      "WARNING:tensorflow:From /usr/local/lib/python3.6/dist-packages/keras/backend/tensorflow_backend.py:174: The name tf.get_default_session is deprecated. Please use tf.compat.v1.get_default_session instead.\n",
      "\n",
      "WARNING:tensorflow:From /usr/local/lib/python3.6/dist-packages/keras/backend/tensorflow_backend.py:181: The name tf.ConfigProto is deprecated. Please use tf.compat.v1.ConfigProto instead.\n",
      "\n"
     ]
    }
   ],
   "source": [
    "weights_file = os.path.join(WEIGHTS_DIR,'prednet_sat_weights-extrapfinetuned.hdf5')\n",
    "json_file = os.path.join(WEIGHTS_DIR, 'prednet_sat_model-extrapfinetuned.json')\n",
    "test_file = os.path.join(DATA_DIR, 'X_test.hkl')\n",
    "test_sources = os.path.join(DATA_DIR, 'sources_test.hkl')\n",
    "\n",
    "# Load trained model\n",
    "f = open(json_file, 'r')\n",
    "json_string = f.read()\n",
    "f.close()\n",
    "train_model = model_from_json(json_string, custom_objects = {'PredNet': PredNet})\n",
    "train_model.load_weights(weights_file)\n",
    "\n",
    "# Create testing model (to output predictions)\n",
    "layer_config = train_model.layers[1].get_config()\n",
    "layer_config['output_mode'] = 'prediction'\n",
    "data_format = layer_config['data_format'] if 'data_format' in layer_config else layer_config['dim_ordering']\n",
    "test_prednet = PredNet(weights=train_model.layers[1].get_weights(), **layer_config)\n",
    "input_shape = list(train_model.layers[0].batch_input_shape[1:])\n",
    "input_shape[0] = nt\n",
    "inputs = Input(shape=tuple(input_shape))\n",
    "predictions = test_prednet(inputs)\n",
    "test_model = Model(inputs=inputs, outputs=predictions)\n",
    "\n",
    "test_generator = SequenceGenerator(test_file, test_sources, nt, sequence_start_mode='unique', data_format=data_format)\n",
    "X_test = test_generator.create_all()\n",
    "X_hat = test_model.predict(X_test, batch_size)\n",
    "if data_format == 'channels_first':\n",
    "    X_test = np.transpose(X_test, (0, 1, 3, 4, 2))\n",
    "    X_hat = np.transpose(X_hat, (0, 1, 3, 4, 2))\n",
    "\n",
    "# Compare MSE of PredNet predictions vs. using last frame.  Write results to prediction_scores.txt\n",
    "mse_model = np.mean( (X_test[:, 1:] - X_hat[:, 1:])**2 )  # look at all timesteps except the first\n",
    "mse_prev = np.mean( (X_test[:, :-1] - X_test[:, 1:])**2 )\n",
    "if not os.path.exists(RESULTS_SAVE_DIR): os.mkdir(RESULTS_SAVE_DIR)\n",
    "f = open(RESULTS_SAVE_DIR + 'prediction_scores.txt', 'w')\n",
    "f.write(\"Model MSE: %f\\n\" % mse_model)\n",
    "f.write(\"Previous Frame MSE: %f\" % mse_prev)\n",
    "f.close()"
   ]
  },
  {
   "cell_type": "code",
   "execution_count": 4,
   "metadata": {},
   "outputs": [
    {
     "name": "stderr",
     "output_type": "stream",
     "text": [
      "/usr/local/lib/python3.6/dist-packages/matplotlib/cbook/deprecation.py:107: MatplotlibDeprecationWarning: Passing one of 'on', 'true', 'off', 'false' as a boolean is deprecated; use an actual boolean (True/False) instead.\n",
      "  warnings.warn(message, mplDeprecation, stacklevel=1)\n"
     ]
    }
   ],
   "source": [
    "np.random.seed(seed=42)\n",
    "# Plot some predictions\n",
    "aspect_ratio = float(X_hat.shape[2]) / X_hat.shape[3]\n",
    "plt.figure(figsize = (nt, 2*aspect_ratio))\n",
    "gs = gridspec.GridSpec(2, nt)\n",
    "gs.update(wspace=0., hspace=0.)\n",
    "plot_save_dir = os.path.join(RESULTS_SAVE_DIR, 'prediction_plots/')\n",
    "if not os.path.exists(plot_save_dir): os.mkdir(plot_save_dir)\n",
    "plot_idx = np.random.permutation(X_test.shape[0])[:n_plot]\n",
    "for i in plot_idx:\n",
    "    for t in range(nt):\n",
    "        plt.subplot(gs[t])\n",
    "        one_d_X_test = X_test[i,t].flatten()\n",
    "        two_d_X_test = np.reshape(one_d_X_test, (168, 128))\n",
    "        plt.imshow(two_d_X_test, 'gray', interpolation='none')\n",
    "#         plt.imshow(X_test[i,t], 'gray', interpolation='none')\n",
    "        plt.tick_params(axis='both', which='both', bottom='off', top='off', left='off', right='off', labelbottom='off', labelleft='off')\n",
    "        if t==0: plt.ylabel('Actual', fontsize=10)\n",
    "\n",
    "        plt.subplot(gs[t + nt])\n",
    "        one_d_X_hat = X_hat[i,t].flatten()\n",
    "        two_d_X_hat = np.reshape(X_hat[i,t], (168, 128))\n",
    "        plt.imshow(two_d_X_hat, 'gray', interpolation='none')\n",
    "#         plt.imshow(X_hat[i,t], 'gray', interpolation='none')\n",
    "        plt.tick_params(axis='both', which='both', bottom='off', top='off', left='off', right='off', labelbottom='off', labelleft='off')\n",
    "        if t==0: plt.ylabel('Predicted', fontsize=10)\n",
    "\n",
    "    plt.savefig(plot_save_dir +  'plot_' + str(i) + '.png')\n",
    "    plt.clf()"
   ]
  }
 ],
 "metadata": {
  "kernelspec": {
   "display_name": "Python 3",
   "language": "python",
   "name": "python3"
  },
  "language_info": {
   "codemirror_mode": {
    "name": "ipython",
    "version": 3
   },
   "file_extension": ".py",
   "mimetype": "text/x-python",
   "name": "python",
   "nbconvert_exporter": "python",
   "pygments_lexer": "ipython3",
   "version": "3.6.9"
  }
 },
 "nbformat": 4,
 "nbformat_minor": 2
}
